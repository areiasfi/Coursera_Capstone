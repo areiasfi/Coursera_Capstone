{
  "nbformat": 4,
  "nbformat_minor": 0,
  "metadata": {
    "colab": {
      "name": "Segmenting and Clustering Neighborhoods in Toronto_build a dataframe.ipynb",
      "provenance": [],
      "collapsed_sections": [],
      "authorship_tag": "ABX9TyNnRJMhckLNUSvxtYCQEYL3",
      "include_colab_link": true
    },
    "kernelspec": {
      "name": "python3",
      "display_name": "Python 3"
    }
  },
  "cells": [
    {
      "cell_type": "markdown",
      "metadata": {
        "id": "view-in-github",
        "colab_type": "text"
      },
      "source": [
        "<a href=\"https://colab.research.google.com/github/areiasfi/Coursera_Capstone/blob/main/Segmenting_and_Clustering_Neighborhoods_in_Toronto_build_a_dataframe.ipynb\" target=\"_parent\"><img src=\"https://colab.research.google.com/assets/colab-badge.svg\" alt=\"Open In Colab\"/></a>"
      ]
    },
    {
      "cell_type": "markdown",
      "metadata": {
        "id": "Rr6O0Nqjly27"
      },
      "source": [
        "**Assignment to explore and cluster the neighborhoods in Toronto.**\r\n",
        "\r\n",
        "Import libraries\r\n"
      ]
    },
    {
      "cell_type": "code",
      "metadata": {
        "id": "KqFV8VFgbT_O"
      },
      "source": [
        "import pandas as pd\r\n",
        "import numpy as np"
      ],
      "execution_count": 1,
      "outputs": []
    },
    {
      "cell_type": "markdown",
      "metadata": {
        "id": "yhNIt85Roy-a"
      },
      "source": [
        "Scrape Wikipedia page using pandas"
      ]
    },
    {
      "cell_type": "code",
      "metadata": {
        "id": "8wwpjBvZo0xV"
      },
      "source": [
        "link = \"https://en.wikipedia.org/wiki/List_of_postal_codes_of_Canada:_M\"\r\n",
        "tables = pd.read_html(link)\r\n",
        "#Creating dataframe of the asked table\r\n",
        "table = tables[0]"
      ],
      "execution_count": 2,
      "outputs": []
    },
    {
      "cell_type": "markdown",
      "metadata": {
        "id": "Kt5_0O1lo7k6"
      },
      "source": [
        "Cleaning the data:\r\n",
        "\r\n",
        "*   ignore cells with Not assigned Borough\r\n",
        "*   combine neighborhoods with the same postal code area\r\n",
        "*   If a cell has a borough but a Not assigned neighborhood, then the neighborhood will be the same as the borough."
      ]
    },
    {
      "cell_type": "code",
      "metadata": {
        "id": "TV9oJQOJo8Gj",
        "colab": {
          "base_uri": "https://localhost:8080/",
          "height": 204
        },
        "outputId": "13f9964a-c16c-4b5b-814a-d0aba236618a"
      },
      "source": [
        "#Ignore cells with a borough that is Not assigned.\r\n",
        "table = table[table['Borough'] != 'Not assigned'].reset_index(drop=True)\r\n",
        "\r\n",
        "#combine neighborhoods with the same postal code area\r\n",
        "table = table.groupby('Postal Code').agg({'Borough':'first', \r\n",
        "                             'Neighbourhood': ', '.join}).reset_index()\r\n",
        "\r\n",
        "#If a cell has a borough but a Not assigned neighborhood, then the neighborhood will be the same as the borough.\r\n",
        "table['Neighbourhood'] = table[table['Neighbourhood'] != 'Not assigned'].replace(table['Neighbourhood'],table['Borough'], regex = True)\r\n",
        "\r\n",
        "table.head()"
      ],
      "execution_count": 3,
      "outputs": [
        {
          "output_type": "execute_result",
          "data": {
            "text/html": [
              "<div>\n",
              "<style scoped>\n",
              "    .dataframe tbody tr th:only-of-type {\n",
              "        vertical-align: middle;\n",
              "    }\n",
              "\n",
              "    .dataframe tbody tr th {\n",
              "        vertical-align: top;\n",
              "    }\n",
              "\n",
              "    .dataframe thead th {\n",
              "        text-align: right;\n",
              "    }\n",
              "</style>\n",
              "<table border=\"1\" class=\"dataframe\">\n",
              "  <thead>\n",
              "    <tr style=\"text-align: right;\">\n",
              "      <th></th>\n",
              "      <th>Postal Code</th>\n",
              "      <th>Borough</th>\n",
              "      <th>Neighbourhood</th>\n",
              "    </tr>\n",
              "  </thead>\n",
              "  <tbody>\n",
              "    <tr>\n",
              "      <th>0</th>\n",
              "      <td>M1B</td>\n",
              "      <td>Scarborough</td>\n",
              "      <td>M1B</td>\n",
              "    </tr>\n",
              "    <tr>\n",
              "      <th>1</th>\n",
              "      <td>M1C</td>\n",
              "      <td>Scarborough</td>\n",
              "      <td>M1C</td>\n",
              "    </tr>\n",
              "    <tr>\n",
              "      <th>2</th>\n",
              "      <td>M1E</td>\n",
              "      <td>Scarborough</td>\n",
              "      <td>M1E</td>\n",
              "    </tr>\n",
              "    <tr>\n",
              "      <th>3</th>\n",
              "      <td>M1G</td>\n",
              "      <td>Scarborough</td>\n",
              "      <td>M1G</td>\n",
              "    </tr>\n",
              "    <tr>\n",
              "      <th>4</th>\n",
              "      <td>M1H</td>\n",
              "      <td>Scarborough</td>\n",
              "      <td>M1H</td>\n",
              "    </tr>\n",
              "  </tbody>\n",
              "</table>\n",
              "</div>"
            ],
            "text/plain": [
              "  Postal Code      Borough Neighbourhood\n",
              "0         M1B  Scarborough           M1B\n",
              "1         M1C  Scarborough           M1C\n",
              "2         M1E  Scarborough           M1E\n",
              "3         M1G  Scarborough           M1G\n",
              "4         M1H  Scarborough           M1H"
            ]
          },
          "metadata": {
            "tags": []
          },
          "execution_count": 3
        }
      ]
    },
    {
      "cell_type": "markdown",
      "metadata": {
        "id": "9jXqfJLCpmk9"
      },
      "source": [
        " Print the number of rows of your dataframe."
      ]
    },
    {
      "cell_type": "code",
      "metadata": {
        "colab": {
          "base_uri": "https://localhost:8080/"
        },
        "id": "X8M0nimUmzJn",
        "outputId": "5a8078eb-4dbc-4951-994a-236f62c46e9b"
      },
      "source": [
        "table.shape"
      ],
      "execution_count": 4,
      "outputs": [
        {
          "output_type": "execute_result",
          "data": {
            "text/plain": [
              "(103, 3)"
            ]
          },
          "metadata": {
            "tags": []
          },
          "execution_count": 4
        }
      ]
    }
  ]
}