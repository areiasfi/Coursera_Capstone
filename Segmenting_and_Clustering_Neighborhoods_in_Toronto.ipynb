{
  "nbformat": 4,
  "nbformat_minor": 0,
  "metadata": {
    "colab": {
      "name": " Segmenting and Clustering Neighborhoods in Toronto.ipynb",
      "provenance": [],
      "collapsed_sections": [],
      "authorship_tag": "ABX9TyMpUHW/teFKnm0h4sBNsiO6",
      "include_colab_link": true
    },
    "kernelspec": {
      "name": "python3",
      "display_name": "Python 3"
    }
  },
  "cells": [
    {
      "cell_type": "markdown",
      "metadata": {
        "id": "view-in-github",
        "colab_type": "text"
      },
      "source": [
        "<a href=\"https://colab.research.google.com/github/areiasfi/Coursera_Capstone/blob/main/Segmenting_and_Clustering_Neighborhoods_in_Toronto.ipynb\" target=\"_parent\"><img src=\"https://colab.research.google.com/assets/colab-badge.svg\" alt=\"Open In Colab\"/></a>"
      ]
    },
    {
      "cell_type": "markdown",
      "metadata": {
        "id": "Rr6O0Nqjly27"
      },
      "source": [
        "**Assignment to explore and cluster the neighborhoods in Toronto.**\r\n"
      ]
    },
    {
      "cell_type": "code",
      "metadata": {
        "colab": {
          "base_uri": "https://localhost:8080/",
          "height": 204
        },
        "id": "KqFV8VFgbT_O",
        "outputId": "26b16ec1-27fc-4050-9216-9e7b4a43734e"
      },
      "source": [
        "import pandas as pd\r\n",
        "import numpy as np\r\n",
        "\r\n",
        "#scrape Wikipedia page using pandas\r\n",
        "link = \"https://en.wikipedia.org/wiki/List_of_postal_codes_of_Canada:_M\"\r\n",
        "tables = pd.read_html(link)\r\n",
        "# creating dataframe of the asked table\r\n",
        "table = tables[0]\r\n",
        "#Ignore cells with a borough that is Not assigned.\r\n",
        "table = table[table['Borough'] != 'Not assigned'].reset_index(drop=True)\r\n",
        "\r\n",
        "#combine neighborhoods with the same postal code area\r\n",
        "table = table.groupby('Postal Code').agg({'Borough':'first', \r\n",
        "                             'Neighbourhood': ', '.join}).reset_index()\r\n",
        "\r\n",
        "#If a cell has a borough but a Not assigned  neighborhood, then the neighborhood will be the same as the borough.\r\n",
        "table['Neighbourhood'] = table[table['Neighbourhood'] != 'Not assigned'].replace(table['Neighbourhood'],table['Borough'], regex = True)\r\n",
        "\r\n",
        "table.head()"
      ],
      "execution_count": 21,
      "outputs": [
        {
          "output_type": "execute_result",
          "data": {
            "text/html": [
              "<div>\n",
              "<style scoped>\n",
              "    .dataframe tbody tr th:only-of-type {\n",
              "        vertical-align: middle;\n",
              "    }\n",
              "\n",
              "    .dataframe tbody tr th {\n",
              "        vertical-align: top;\n",
              "    }\n",
              "\n",
              "    .dataframe thead th {\n",
              "        text-align: right;\n",
              "    }\n",
              "</style>\n",
              "<table border=\"1\" class=\"dataframe\">\n",
              "  <thead>\n",
              "    <tr style=\"text-align: right;\">\n",
              "      <th></th>\n",
              "      <th>Postal Code</th>\n",
              "      <th>Borough</th>\n",
              "      <th>Neighbourhood</th>\n",
              "    </tr>\n",
              "  </thead>\n",
              "  <tbody>\n",
              "    <tr>\n",
              "      <th>0</th>\n",
              "      <td>M1B</td>\n",
              "      <td>Scarborough</td>\n",
              "      <td>M1B</td>\n",
              "    </tr>\n",
              "    <tr>\n",
              "      <th>1</th>\n",
              "      <td>M1C</td>\n",
              "      <td>Scarborough</td>\n",
              "      <td>M1C</td>\n",
              "    </tr>\n",
              "    <tr>\n",
              "      <th>2</th>\n",
              "      <td>M1E</td>\n",
              "      <td>Scarborough</td>\n",
              "      <td>M1E</td>\n",
              "    </tr>\n",
              "    <tr>\n",
              "      <th>3</th>\n",
              "      <td>M1G</td>\n",
              "      <td>Scarborough</td>\n",
              "      <td>M1G</td>\n",
              "    </tr>\n",
              "    <tr>\n",
              "      <th>4</th>\n",
              "      <td>M1H</td>\n",
              "      <td>Scarborough</td>\n",
              "      <td>M1H</td>\n",
              "    </tr>\n",
              "  </tbody>\n",
              "</table>\n",
              "</div>"
            ],
            "text/plain": [
              "  Postal Code      Borough Neighbourhood\n",
              "0         M1B  Scarborough           M1B\n",
              "1         M1C  Scarborough           M1C\n",
              "2         M1E  Scarborough           M1E\n",
              "3         M1G  Scarborough           M1G\n",
              "4         M1H  Scarborough           M1H"
            ]
          },
          "metadata": {
            "tags": []
          },
          "execution_count": 21
        }
      ]
    },
    {
      "cell_type": "code",
      "metadata": {
        "colab": {
          "base_uri": "https://localhost:8080/"
        },
        "id": "X8M0nimUmzJn",
        "outputId": "5f55f5b7-b53b-4b56-83d5-6983d67556b1"
      },
      "source": [
        "table.shape"
      ],
      "execution_count": 23,
      "outputs": [
        {
          "output_type": "execute_result",
          "data": {
            "text/plain": [
              "(103, 3)"
            ]
          },
          "metadata": {
            "tags": []
          },
          "execution_count": 23
        }
      ]
    }
  ]
}