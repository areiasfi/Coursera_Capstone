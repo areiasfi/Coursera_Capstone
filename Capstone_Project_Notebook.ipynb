{
  "nbformat": 4,
  "nbformat_minor": 0,
  "metadata": {
    "colab": {
      "name": " Capstone Project Notebook.ipynb",
      "provenance": [],
      "authorship_tag": "ABX9TyOJ315GEgjsiQ9O1PTrL0Al",
      "include_colab_link": true
    },
    "kernelspec": {
      "name": "python3",
      "display_name": "Python 3"
    }
  },
  "cells": [
    {
      "cell_type": "markdown",
      "metadata": {
        "id": "view-in-github",
        "colab_type": "text"
      },
      "source": [
        "<a href=\"https://colab.research.google.com/github/areiasfi/Coursera_Capstone/blob/main/Capstone_Project_Notebook.ipynb\" target=\"_parent\"><img src=\"https://colab.research.google.com/assets/colab-badge.svg\" alt=\"Open In Colab\"/></a>"
      ]
    },
    {
      "cell_type": "markdown",
      "metadata": {
        "id": "RO9suK4Mv43j"
      },
      "source": [
        "# Capstone Project Notebook\r\n",
        "\r\n",
        "**This notebook will be mainly used for the capstone project.**\r\n"
      ]
    },
    {
      "cell_type": "code",
      "metadata": {
        "id": "gg8ffG4vwOLs"
      },
      "source": [
        ""
      ],
      "execution_count": null,
      "outputs": []
    }
  ]
}